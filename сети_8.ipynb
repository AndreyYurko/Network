{
 "cells": [
  {
   "cell_type": "code",
   "execution_count": 21,
   "id": "31a87757",
   "metadata": {},
   "outputs": [],
   "source": [
    "import numpy as np"
   ]
  },
  {
   "cell_type": "code",
   "execution_count": 22,
   "id": "67eb1466",
   "metadata": {},
   "outputs": [],
   "source": [
    "def f_1(bytes_array):\n",
    "    code = 0\n",
    "    if len(bytes_array)%2 == 1:\n",
    "        bytes_array.append(0)\n",
    "    for i in range(0, len(bytes_array), 2):\n",
    "        code = (code + bytes_array[i]*256 + bytes_array[i+1]) % 2**16\n",
    "    contr_sum = 2**16 - 1 - code\n",
    "    return contr_sum"
   ]
  },
  {
   "cell_type": "code",
   "execution_count": 23,
   "id": "8876c052",
   "metadata": {},
   "outputs": [
    {
     "data": {
      "text/plain": [
       "0"
      ]
     },
     "execution_count": 23,
     "metadata": {},
     "output_type": "execute_result"
    }
   ],
   "source": [
    "bytes_array = bytearray([255, 255, 0, 0])\n",
    "f_1(bytes_array)"
   ]
  },
  {
   "cell_type": "code",
   "execution_count": 24,
   "id": "a7a4a3a9",
   "metadata": {},
   "outputs": [],
   "source": [
    "def f_2(bytes_array, contr_sum):\n",
    "    code = 0\n",
    "    if len(bytes_array)%2 == 1:\n",
    "        bytes_array.append(0)\n",
    "    for i in range(0, len(bytes_array), 2):\n",
    "        code = (code + bytes_array[i]*256 + bytes_array[i+1]) % 2**16\n",
    "    if code + contr_sum == 2**16 - 1:\n",
    "        return True\n",
    "    else:\n",
    "        return False"
   ]
  },
  {
   "cell_type": "code",
   "execution_count": 28,
   "id": "3d954957",
   "metadata": {},
   "outputs": [
    {
     "name": "stdout",
     "output_type": "stream",
     "text": [
      "True\n"
     ]
    }
   ],
   "source": [
    "bytes_array = bytearray([255, 255, 0, 0])\n",
    "contr_sum = f_1(bytes_array)\n",
    "print(f_2(bytes_array, contr_sum))"
   ]
  },
  {
   "cell_type": "code",
   "execution_count": 29,
   "id": "0a2b714d",
   "metadata": {},
   "outputs": [
    {
     "name": "stdout",
     "output_type": "stream",
     "text": [
      "True\n"
     ]
    }
   ],
   "source": [
    "# 00000000 01010101 - first pair\n",
    "# 00000000 10101010 - second pair\n",
    "bytes_array = bytearray([0, 85, 0, 170])\n",
    "# 11111111 00000000 - contr_sum\n",
    "contr_sum = 256*255\n",
    "print(f_2(bytes_array, contr_sum))"
   ]
  },
  {
   "cell_type": "code",
   "execution_count": 30,
   "id": "5fc311f8",
   "metadata": {},
   "outputs": [
    {
     "name": "stdout",
     "output_type": "stream",
     "text": [
      "False\n"
     ]
    }
   ],
   "source": [
    "# 00000000 01010101 - first pair\n",
    "# 00000000 10101010 - second pair\n",
    "# 00000100 10111010 - second pair with mistakes\n",
    "bytes_array = bytearray([0, 85, 0, 186])\n",
    "# 11111111 00000000 - contr_sum\n",
    "contr_sum = 256*255\n",
    "print(f_2(bytes_array, contr_sum))"
   ]
  },
  {
   "cell_type": "code",
   "execution_count": null,
   "id": "ae16339f",
   "metadata": {},
   "outputs": [],
   "source": []
  }
 ],
 "metadata": {
  "kernelspec": {
   "display_name": "Python 3",
   "language": "python",
   "name": "python3"
  },
  "language_info": {
   "codemirror_mode": {
    "name": "ipython",
    "version": 3
   },
   "file_extension": ".py",
   "mimetype": "text/x-python",
   "name": "python",
   "nbconvert_exporter": "python",
   "pygments_lexer": "ipython3",
   "version": "3.7.3"
  }
 },
 "nbformat": 4,
 "nbformat_minor": 5
}
